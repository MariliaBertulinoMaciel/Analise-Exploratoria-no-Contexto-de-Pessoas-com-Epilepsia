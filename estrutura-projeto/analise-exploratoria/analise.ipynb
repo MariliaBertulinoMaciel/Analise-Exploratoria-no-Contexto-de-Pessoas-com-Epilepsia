{
 "cells": [
  {
   "cell_type": "code",
   "execution_count": null,
   "metadata": {},
   "outputs": [],
   "source": [
    "#Utilizar as bibliotecas de Python aprendidas em aula (e.g. pandas, matplotlib, seaborn, etc);\n",
    "#Trazer um notebook estruturado e organizado com o uso de Markdown. O uso de textos no notebook é altamente incentivado :)\n",
    "#Mínimo de 3 visualizações que ajudem a sumarizar os resultados da sua análise.\n"
   ]
  },
  {
   "cell_type": "code",
   "execution_count": null,
   "metadata": {},
   "outputs": [],
   "source": []
  },
  {
   "cell_type": "code",
   "execution_count": 1,
   "metadata": {},
   "outputs": [
    {
     "name": "stdout",
     "output_type": "stream",
     "text": [
      "Requirement already satisfied: pandas in c:\\users\\usuario\\appdata\\local\\programs\\python\\python312\\lib\\site-packages (2.1.1)Note: you may need to restart the kernel to use updated packages.\n",
      "\n",
      "Requirement already satisfied: numpy>=1.26.0 in c:\\users\\usuario\\appdata\\local\\programs\\python\\python312\\lib\\site-packages (from pandas) (1.26.1)\n",
      "Requirement already satisfied: python-dateutil>=2.8.2 in c:\\users\\usuario\\appdata\\roaming\\python\\python312\\site-packages (from pandas) (2.8.2)\n",
      "Requirement already satisfied: pytz>=2020.1 in c:\\users\\usuario\\appdata\\local\\programs\\python\\python312\\lib\\site-packages (from pandas) (2023.3.post1)\n",
      "Requirement already satisfied: tzdata>=2022.1 in c:\\users\\usuario\\appdata\\local\\programs\\python\\python312\\lib\\site-packages (from pandas) (2023.3)\n",
      "Requirement already satisfied: six>=1.5 in c:\\users\\usuario\\appdata\\roaming\\python\\python312\\site-packages (from python-dateutil>=2.8.2->pandas) (1.16.0)\n"
     ]
    },
    {
     "name": "stderr",
     "output_type": "stream",
     "text": [
      "\n",
      "[notice] A new release of pip is available: 23.2.1 -> 23.3.1\n",
      "[notice] To update, run: python.exe -m pip install --upgrade pip\n"
     ]
    }
   ],
   "source": [
    "pip install pandas"
   ]
  },
  {
   "cell_type": "code",
   "execution_count": 1,
   "metadata": {},
   "outputs": [],
   "source": [
    "#import das bibliotecas\n",
    "import pandas as pd\n",
    "import matplotlib as plt"
   ]
  },
  {
   "cell_type": "code",
   "execution_count": 11,
   "metadata": {},
   "outputs": [],
   "source": [
    "#leitura do arquivo .csv\n",
    "df = pd.read_csv(\"analise_exploratoria_pessoas_com_epilepsia.csv\", sep=\",\", encoding='UTF-8')"
   ]
  },
  {
   "cell_type": "code",
   "execution_count": 12,
   "metadata": {},
   "outputs": [
    {
     "data": {
      "text/html": [
       "<div>\n",
       "<style scoped>\n",
       "    .dataframe tbody tr th:only-of-type {\n",
       "        vertical-align: middle;\n",
       "    }\n",
       "\n",
       "    .dataframe tbody tr th {\n",
       "        vertical-align: top;\n",
       "    }\n",
       "\n",
       "    .dataframe thead th {\n",
       "        text-align: right;\n",
       "    }\n",
       "</style>\n",
       "<table border=\"1\" class=\"dataframe\">\n",
       "  <thead>\n",
       "    <tr style=\"text-align: right;\">\n",
       "      <th></th>\n",
       "      <th>Carimbo de data/hora</th>\n",
       "      <th>idade</th>\n",
       "      <th>genero</th>\n",
       "      <th>primeira_crise_dias</th>\n",
       "      <th>primeira_crise_meses</th>\n",
       "      <th>primeira_crise _anos</th>\n",
       "      <th>ano_diagnostico</th>\n",
       "      <th>tipos_de_crises</th>\n",
       "      <th>alguém_na_genetica</th>\n",
       "      <th>conhecidos</th>\n",
       "      <th>...</th>\n",
       "      <th>perda_de_memoria</th>\n",
       "      <th>dificuldade_sair_sozinhe</th>\n",
       "      <th>afastamento_social</th>\n",
       "      <th>afastamento_social_filhes</th>\n",
       "      <th>esportes</th>\n",
       "      <th>diagsotico_neurodivergente</th>\n",
       "      <th>frequenta_shows</th>\n",
       "      <th>sensivel_a_luz</th>\n",
       "      <th>sensivel_a_sons\\r\\n</th>\n",
       "      <th>autorizaccao</th>\n",
       "    </tr>\n",
       "  </thead>\n",
       "  <tbody>\n",
       "    <tr>\n",
       "      <th>0</th>\n",
       "      <td>22/11/2023 12:30:29</td>\n",
       "      <td>27</td>\n",
       "      <td>Masculino</td>\n",
       "      <td>NaN</td>\n",
       "      <td>NaN</td>\n",
       "      <td>8</td>\n",
       "      <td>2004.0</td>\n",
       "      <td>Crise generalizada Tônico-Clônicas</td>\n",
       "      <td>Não tenho</td>\n",
       "      <td>0</td>\n",
       "      <td>...</td>\n",
       "      <td>1.0</td>\n",
       "      <td>1.0</td>\n",
       "      <td>1</td>\n",
       "      <td>NaN</td>\n",
       "      <td>Não pratico</td>\n",
       "      <td>TDAH,</td>\n",
       "      <td>0</td>\n",
       "      <td>1</td>\n",
       "      <td>1.0</td>\n",
       "      <td>Sim</td>\n",
       "    </tr>\n",
       "    <tr>\n",
       "      <th>1</th>\n",
       "      <td>22/11/2023 19:46:30</td>\n",
       "      <td>28</td>\n",
       "      <td>Masculino</td>\n",
       "      <td>NaN</td>\n",
       "      <td>NaN</td>\n",
       "      <td>27</td>\n",
       "      <td>2022.0</td>\n",
       "      <td>Crise focal Parcial Simples, Crise generalizad...</td>\n",
       "      <td>Primos</td>\n",
       "      <td>0</td>\n",
       "      <td>...</td>\n",
       "      <td>1.0</td>\n",
       "      <td>0.0</td>\n",
       "      <td>1</td>\n",
       "      <td>1.0</td>\n",
       "      <td>Ciclismo</td>\n",
       "      <td>TDAH</td>\n",
       "      <td>1</td>\n",
       "      <td>0</td>\n",
       "      <td>0.0</td>\n",
       "      <td>Sim</td>\n",
       "    </tr>\n",
       "    <tr>\n",
       "      <th>2</th>\n",
       "      <td>22/11/2023 19:46:38</td>\n",
       "      <td>21</td>\n",
       "      <td>Masculino</td>\n",
       "      <td>NaN</td>\n",
       "      <td>NaN</td>\n",
       "      <td>15</td>\n",
       "      <td>2017.0</td>\n",
       "      <td>Crise generalizada Clônica</td>\n",
       "      <td>Avós, Tios, Primos</td>\n",
       "      <td>1</td>\n",
       "      <td>...</td>\n",
       "      <td>0.0</td>\n",
       "      <td>1.0</td>\n",
       "      <td>0</td>\n",
       "      <td>0.0</td>\n",
       "      <td>As vezes ele joga futebol</td>\n",
       "      <td>Não existe</td>\n",
       "      <td>1</td>\n",
       "      <td>1</td>\n",
       "      <td>1.0</td>\n",
       "      <td>Sim</td>\n",
       "    </tr>\n",
       "    <tr>\n",
       "      <th>3</th>\n",
       "      <td>22/11/2023 21:37:52</td>\n",
       "      <td>33</td>\n",
       "      <td>Masculino</td>\n",
       "      <td>NaN</td>\n",
       "      <td>NaN</td>\n",
       "      <td>21</td>\n",
       "      <td>2011.0</td>\n",
       "      <td>Crise focal Parcial Simples, Crise generalizad...</td>\n",
       "      <td>Não tenho</td>\n",
       "      <td>1</td>\n",
       "      <td>...</td>\n",
       "      <td>1.0</td>\n",
       "      <td>1.0</td>\n",
       "      <td>0</td>\n",
       "      <td>0.0</td>\n",
       "      <td>Corrida, Futebol, patinação, trilha,</td>\n",
       "      <td>Não existe</td>\n",
       "      <td>1</td>\n",
       "      <td>1</td>\n",
       "      <td>1.0</td>\n",
       "      <td>Sim</td>\n",
       "    </tr>\n",
       "    <tr>\n",
       "      <th>4</th>\n",
       "      <td>22/11/2023 22:08:26</td>\n",
       "      <td>41</td>\n",
       "      <td>Masculino</td>\n",
       "      <td>1.0</td>\n",
       "      <td>NaN</td>\n",
       "      <td>0</td>\n",
       "      <td>NaN</td>\n",
       "      <td>Crise focal Parcial Complexas</td>\n",
       "      <td>Não tenho</td>\n",
       "      <td>1</td>\n",
       "      <td>...</td>\n",
       "      <td>1.0</td>\n",
       "      <td>0.0</td>\n",
       "      <td>1</td>\n",
       "      <td>NaN</td>\n",
       "      <td>só acompanhado</td>\n",
       "      <td>Com múltiplas lesões cerebrais sequelares. Def...</td>\n",
       "      <td>1</td>\n",
       "      <td>1</td>\n",
       "      <td>1.0</td>\n",
       "      <td>Sim</td>\n",
       "    </tr>\n",
       "  </tbody>\n",
       "</table>\n",
       "<p>5 rows × 24 columns</p>\n",
       "</div>"
      ],
      "text/plain": [
       "  Carimbo de data/hora  idade     genero  primeira_crise_dias  \\\n",
       "0  22/11/2023 12:30:29     27  Masculino                  NaN   \n",
       "1  22/11/2023 19:46:30     28  Masculino                  NaN   \n",
       "2  22/11/2023 19:46:38     21  Masculino                  NaN   \n",
       "3  22/11/2023 21:37:52     33  Masculino                  NaN   \n",
       "4  22/11/2023 22:08:26     41  Masculino                  1.0   \n",
       "\n",
       "   primeira_crise_meses  primeira_crise _anos  ano_diagnostico  \\\n",
       "0                   NaN                     8           2004.0   \n",
       "1                   NaN                    27           2022.0   \n",
       "2                   NaN                    15           2017.0   \n",
       "3                   NaN                    21           2011.0   \n",
       "4                   NaN                     0              NaN   \n",
       "\n",
       "                                    tipos_de_crises   alguém_na_genetica  \\\n",
       "0                 Crise generalizada Tônico-Clônicas           Não tenho   \n",
       "1  Crise focal Parcial Simples, Crise generalizad...              Primos   \n",
       "2                         Crise generalizada Clônica  Avós, Tios, Primos   \n",
       "3  Crise focal Parcial Simples, Crise generalizad...           Não tenho   \n",
       "4                      Crise focal Parcial Complexas           Não tenho   \n",
       "\n",
       "   conhecidos  ...  perda_de_memoria   dificuldade_sair_sozinhe  \\\n",
       "0           0  ...                 1.0                      1.0   \n",
       "1           0  ...                 1.0                      0.0   \n",
       "2           1  ...                 0.0                      1.0   \n",
       "3           1  ...                 1.0                      1.0   \n",
       "4           1  ...                 1.0                      0.0   \n",
       "\n",
       "  afastamento_social  afastamento_social_filhes    \\\n",
       "0                  1                          NaN   \n",
       "1                  1                          1.0   \n",
       "2                  0                          0.0   \n",
       "3                  0                          0.0   \n",
       "4                  1                          NaN   \n",
       "\n",
       "                                esportes  \\\n",
       "0                            Não pratico   \n",
       "1                               Ciclismo   \n",
       "2             As vezes ele joga futebol    \n",
       "3  Corrida, Futebol, patinação, trilha,    \n",
       "4                         só acompanhado   \n",
       "\n",
       "                          diagsotico_neurodivergente  frequenta_shows   \\\n",
       "0                                             TDAH,                  0   \n",
       "1                                               TDAH                 1   \n",
       "2                                         Não existe                 1   \n",
       "3                                         Não existe                 1   \n",
       "4  Com múltiplas lesões cerebrais sequelares. Def...                 1   \n",
       "\n",
       "   sensivel_a_luz sensivel_a_sons\\r\\n autorizaccao  \n",
       "0               1                 1.0          Sim  \n",
       "1               0                 0.0          Sim  \n",
       "2               1                 1.0          Sim  \n",
       "3               1                 1.0          Sim  \n",
       "4               1                 1.0          Sim  \n",
       "\n",
       "[5 rows x 24 columns]"
      ]
     },
     "execution_count": 12,
     "metadata": {},
     "output_type": "execute_result"
    }
   ],
   "source": [
    "#df em série\n",
    "df.head()"
   ]
  },
  {
   "cell_type": "code",
   "execution_count": null,
   "metadata": {},
   "outputs": [],
   "source": [
    "#tratamento de colunas com dados nulos"
   ]
  },
  {
   "cell_type": "code",
   "execution_count": null,
   "metadata": {},
   "outputs": [],
   "source": [
    "#drop das colunas que não serão utilizadas"
   ]
  },
  {
   "cell_type": "code",
   "execution_count": null,
   "metadata": {},
   "outputs": [],
   "source": [
    "# elaboração do insights que podem ser respondidos através do dataset e das informações \n",
    "#(visualizar o brainstorm do canvas)\n"
   ]
  },
  {
   "cell_type": "code",
   "execution_count": null,
   "metadata": {},
   "outputs": [],
   "source": [
    "#elaborar gráficos simples de barra / linha / histograma sobre as respostas dos insights"
   ]
  },
  {
   "cell_type": "code",
   "execution_count": null,
   "metadata": {},
   "outputs": [],
   "source": [
    "#Analisar se preciso agregar algum dataset que acrescente \n"
   ]
  },
  {
   "cell_type": "code",
   "execution_count": null,
   "metadata": {},
   "outputs": [],
   "source": [
    "OBS: As colunas SIM e nao transformar em binário e gerar novamento o csv"
   ]
  }
 ],
 "metadata": {
  "kernelspec": {
   "display_name": "Python 3",
   "language": "python",
   "name": "python3"
  },
  "language_info": {
   "codemirror_mode": {
    "name": "ipython",
    "version": 3
   },
   "file_extension": ".py",
   "mimetype": "text/x-python",
   "name": "python",
   "nbconvert_exporter": "python",
   "pygments_lexer": "ipython3",
   "version": "3.12.0"
  },
  "orig_nbformat": 4
 },
 "nbformat": 4,
 "nbformat_minor": 2
}
